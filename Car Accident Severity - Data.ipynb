{
 "cells": [
  {
   "cell_type": "markdown",
   "metadata": {},
   "source": [
    "Data"
   ]
  },
  {
   "cell_type": "markdown",
   "metadata": {},
   "source": [
    "I will be using the shared data for Seattle to solve the problem. The dataset has been provided by SPD and was recorded by Traffic Records.\n",
    "\n",
    "The dataset contains attributes such as location of collision,collision type, number of people involved in the collision and the severity of the accident. \n",
    "\n",
    "By developing a machine learning model based on the dataset, we will be able to predict the severity of an accident based on the attributes provided. This would then be used by insurance companies to automate the process of setting up claim reserves for car accidents. For each severity type, the claim reserve can be automatically set at a certain amount. For example, if the severity code is 1, the reserve amount can be set at $500. For cases with higher severity, the reserve amount would increase accordingly."
   ]
  }
 ],
 "metadata": {
  "kernelspec": {
   "display_name": "Python",
   "language": "python",
   "name": "conda-env-python-py"
  },
  "language_info": {
   "codemirror_mode": {
    "name": "ipython",
    "version": 3
   },
   "file_extension": ".py",
   "mimetype": "text/x-python",
   "name": "python",
   "nbconvert_exporter": "python",
   "pygments_lexer": "ipython3",
   "version": "3.6.11"
  }
 },
 "nbformat": 4,
 "nbformat_minor": 4
}
